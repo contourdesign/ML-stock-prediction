{
  "nbformat": 4,
  "nbformat_minor": 0,
  "metadata": {
    "colab": {
      "name": "ML_stock.ipynb",
      "provenance": [],
      "authorship_tag": "ABX9TyPLzBcxyMm9c7tE+gd/LeXq",
      "include_colab_link": true
    },
    "kernelspec": {
      "name": "python3",
      "display_name": "Python 3"
    },
    "language_info": {
      "name": "python"
    }
  },
  "cells": [
    {
      "cell_type": "markdown",
      "metadata": {
        "id": "view-in-github",
        "colab_type": "text"
      },
      "source": [
        "<a href=\"https://colab.research.google.com/github/contourdesign/ML-stock-prediction/blob/main/ML_stock.ipynb\" target=\"_parent\"><img src=\"https://colab.research.google.com/assets/colab-badge.svg\" alt=\"Open In Colab\"/></a>"
      ]
    },
    {
      "cell_type": "code",
      "metadata": {
        "id": "BdJSxYfUl3Y7"
      },
      "source": [
        "# Predict stock price \n",
        "# import dependencies\n",
        "import math\n",
        "import pandas_datareader as web\n",
        "import numpy as np\n",
        "import pandas as pd\n",
        "from sklearn.preprocessing import MinMaxScaler\n",
        "from keras.models import Sequential\n",
        "from keras.layers import Dense, LSTM\n",
        "import matplotlib.pyplot as plt\n",
        "plt.style.use(\"fivethirtyeight\")\n"
      ],
      "execution_count": null,
      "outputs": []
    },
    {
      "cell_type": "code",
      "metadata": {
        "colab": {
          "base_uri": "https://localhost:8080/",
          "height": 234
        },
        "id": "4-tUWdWDmlEP",
        "outputId": "50faaf0e-c63a-47eb-a602-51fdd79b2c29"
      },
      "source": [
        "df = web.DataReader('TWTR', data_source='yahoo', start='2014-01-01', end='2021-6-11')\n",
        "df.head()"
      ],
      "execution_count": null,
      "outputs": [
        {
          "output_type": "execute_result",
          "data": {
            "text/html": [
              "<div>\n",
              "<style scoped>\n",
              "    .dataframe tbody tr th:only-of-type {\n",
              "        vertical-align: middle;\n",
              "    }\n",
              "\n",
              "    .dataframe tbody tr th {\n",
              "        vertical-align: top;\n",
              "    }\n",
              "\n",
              "    .dataframe thead th {\n",
              "        text-align: right;\n",
              "    }\n",
              "</style>\n",
              "<table border=\"1\" class=\"dataframe\">\n",
              "  <thead>\n",
              "    <tr style=\"text-align: right;\">\n",
              "      <th></th>\n",
              "      <th>High</th>\n",
              "      <th>Low</th>\n",
              "      <th>Open</th>\n",
              "      <th>Close</th>\n",
              "      <th>Volume</th>\n",
              "      <th>Adj Close</th>\n",
              "    </tr>\n",
              "    <tr>\n",
              "      <th>Date</th>\n",
              "      <th></th>\n",
              "      <th></th>\n",
              "      <th></th>\n",
              "      <th></th>\n",
              "      <th></th>\n",
              "      <th></th>\n",
              "    </tr>\n",
              "  </thead>\n",
              "  <tbody>\n",
              "    <tr>\n",
              "      <th>2014-01-02</th>\n",
              "      <td>67.500000</td>\n",
              "      <td>64.400002</td>\n",
              "      <td>65.000000</td>\n",
              "      <td>67.500000</td>\n",
              "      <td>29246400</td>\n",
              "      <td>67.500000</td>\n",
              "    </tr>\n",
              "    <tr>\n",
              "      <th>2014-01-03</th>\n",
              "      <td>70.430000</td>\n",
              "      <td>68.430000</td>\n",
              "      <td>69.000000</td>\n",
              "      <td>69.000000</td>\n",
              "      <td>33207200</td>\n",
              "      <td>69.000000</td>\n",
              "    </tr>\n",
              "    <tr>\n",
              "      <th>2014-01-06</th>\n",
              "      <td>66.870003</td>\n",
              "      <td>63.500000</td>\n",
              "      <td>64.830002</td>\n",
              "      <td>66.290001</td>\n",
              "      <td>27243700</td>\n",
              "      <td>66.290001</td>\n",
              "    </tr>\n",
              "    <tr>\n",
              "      <th>2014-01-07</th>\n",
              "      <td>67.730003</td>\n",
              "      <td>61.389999</td>\n",
              "      <td>67.669998</td>\n",
              "      <td>61.459999</td>\n",
              "      <td>31748400</td>\n",
              "      <td>61.459999</td>\n",
              "    </tr>\n",
              "    <tr>\n",
              "      <th>2014-01-08</th>\n",
              "      <td>61.259998</td>\n",
              "      <td>57.919998</td>\n",
              "      <td>58.709999</td>\n",
              "      <td>59.290001</td>\n",
              "      <td>27263200</td>\n",
              "      <td>59.290001</td>\n",
              "    </tr>\n",
              "  </tbody>\n",
              "</table>\n",
              "</div>"
            ],
            "text/plain": [
              "                 High        Low       Open      Close    Volume  Adj Close\n",
              "Date                                                                       \n",
              "2014-01-02  67.500000  64.400002  65.000000  67.500000  29246400  67.500000\n",
              "2014-01-03  70.430000  68.430000  69.000000  69.000000  33207200  69.000000\n",
              "2014-01-06  66.870003  63.500000  64.830002  66.290001  27243700  66.290001\n",
              "2014-01-07  67.730003  61.389999  67.669998  61.459999  31748400  61.459999\n",
              "2014-01-08  61.259998  57.919998  58.709999  59.290001  27263200  59.290001"
            ]
          },
          "metadata": {
            "tags": []
          },
          "execution_count": 4
        }
      ]
    },
    {
      "cell_type": "code",
      "metadata": {
        "colab": {
          "base_uri": "https://localhost:8080/"
        },
        "id": "37JHpwIYoMpJ",
        "outputId": "b542f3f2-bfcd-4592-daff-ce708e3864b6"
      },
      "source": [
        "# get number of rows and col's\n",
        "df.shape"
      ],
      "execution_count": null,
      "outputs": [
        {
          "output_type": "execute_result",
          "data": {
            "text/plain": [
              "(1874, 6)"
            ]
          },
          "metadata": {
            "tags": []
          },
          "execution_count": 5
        }
      ]
    },
    {
      "cell_type": "code",
      "metadata": {
        "colab": {
          "base_uri": "https://localhost:8080/",
          "height": 324
        },
        "id": "ahMhlKheocM8",
        "outputId": "77ce4105-bb4d-41ee-c07d-d8edf64d7933"
      },
      "source": [
        "# check out the closing price history\n",
        "plt.figure(figsize=(16,8))\n",
        "plt.title('close price history')\n",
        "plt.plot(df['Close'])\n",
        "plt.xlabel('date', fontsize=18)\n",
        "plt.ylabel('close price USD', fontsize=18)\n",
        "plt.show()"
      ],
      "execution_count": null,
      "outputs": [
        {
          "output_type": "display_data",
          "data": {
            "image/png": "[encoded data removed]",
            "text/plain": [
              "<Figure size 1152x576 with 1 Axes>"
            ]
          },
          "metadata": {
            "tags": [],
            "needs_background": "light"
          }
        }
      ]
    },
    {
      "cell_type": "code",
      "metadata": {
        "colab": {
          "base_uri": "https://localhost:8080/"
        },
        "id": "JGimqXe_ozoT",
        "outputId": "484bcaa8-6743-4152-99f9-0c9ebcaef42f"
      },
      "source": [
        "# new df with close col\n",
        "data = df.filter(['Close'])\n",
        "\n",
        "# convert to np array and calc rows to train at 80%\n",
        "dataset = data.values\n",
        "training_data_len = math.ceil(len(dataset) * .8)\n",
        "training_data_len"
      ],
      "execution_count": null,
      "outputs": [
        {
          "output_type": "execute_result",
          "data": {
            "text/plain": [
              "1500"
            ]
          },
          "metadata": {
            "tags": []
          },
          "execution_count": 9
        }
      ]
    },
    {
      "cell_type": "code",
      "metadata": {
        "colab": {
          "base_uri": "https://localhost:8080/"
        },
        "id": "Yhaf7uLQpyEU",
        "outputId": "eb659ce7-77f3-498f-c589-d1442509fd67"
      },
      "source": [
        "# Scale the data between 0-1\n",
        "scaler = MinMaxScaler(feature_range=(0,1))\n",
        "scaled_data = scaler.fit_transform(dataset)\n",
        "scaled_data"
      ],
      "execution_count": null,
      "outputs": [
        {
          "output_type": "execute_result",
          "data": {
            "text/plain": [
              "array([[0.84077338],\n",
              "       [0.86435087],\n",
              "       [0.82175421],\n",
              "       ...,\n",
              "       [0.71832759],\n",
              "       [0.7276014 ],\n",
              "       [0.73074508]])"
            ]
          },
          "metadata": {
            "tags": []
          },
          "execution_count": 10
        }
      ]
    },
    {
      "cell_type": "code",
      "metadata": {
        "colab": {
          "base_uri": "https://localhost:8080/"
        },
        "id": "gAmWm_WcqQ5W",
        "outputId": "6e04cc68-7ba6-4f51-928c-2e81103b384a"
      },
      "source": [
        "# create training dataset\n",
        "# scaled training\n",
        "train_data = scaled_data[0:training_data_len, :]\n",
        "\n",
        "# split into x and y for 60 days passthru\n",
        "x_train = []\n",
        "y_train = []\n",
        "\n",
        "for i in range(60, len(train_data)):\n",
        "  x_train.append(train_data[i-60:i, 0])\n",
        "  y_train.append(train_data[i, 0])\n",
        "  if i <= 60:\n",
        "    print(x_train)\n",
        "    print(y_train)\n",
        "    print()"
      ],
      "execution_count": null,
      "outputs": [
        {
          "output_type": "stream",
          "text": [
            "[array([0.84077338, 0.86435087, 0.82175421, 0.74583466, 0.71172592,\n",
            "       0.67651683, 0.67573093, 0.68861995, 0.69475009, 0.74756369,\n",
            "       0.73184536, 0.75746625, 0.76265327, 0.76123861, 0.76689722,\n",
            "       0.75023583, 0.69003461, 0.72980196, 0.71424085, 0.77742853,\n",
            "       0.79361839, 0.80540714, 0.82222575, 0.81672435, 0.56617416,\n",
            "       0.63407734, 0.61160012, 0.62857595, 0.67337316, 0.66740024,\n",
            "       0.68264697, 0.69427856, 0.65215344, 0.66991517, 0.65875511,\n",
            "       0.65655455, 0.64366553, 0.6579692 , 0.65639739, 0.64287962,\n",
            "       0.62401762, 0.63297706, 0.63454893, 0.64162219, 0.62118831,\n",
            "       0.62668976, 0.62889032, 0.63643511, 0.62181706, 0.59588179,\n",
            "       0.59792519, 0.58346436, 0.58519339, 0.56758881, 0.58016347,\n",
            "       0.5463691 , 0.53237979, 0.47815155, 0.50785918, 0.52326313])]\n",
            "[0.51336057006522]\n",
            "\n"
          ],
          "name": "stdout"
        }
      ]
    },
    {
      "cell_type": "code",
      "metadata": {
        "colab": {
          "base_uri": "https://localhost:8080/"
        },
        "id": "MugaAHD1rGcx",
        "outputId": "05a01f7c-8f40-4f43-a103-650f265cc744"
      },
      "source": [
        "# convert x and y to numpy array and re-shape to 3D\n",
        "x_train, y_train = np.array(x_train), np.array(y_train)\n",
        "x_train.shape\n"
      ],
      "execution_count": null,
      "outputs": [
        {
          "output_type": "execute_result",
          "data": {
            "text/plain": [
              "(1440, 60)"
            ]
          },
          "metadata": {
            "tags": []
          },
          "execution_count": 12
        }
      ]
    },
    {
      "cell_type": "code",
      "metadata": {
        "colab": {
          "base_uri": "https://localhost:8080/"
        },
        "id": "8zwjjPvNsH1_",
        "outputId": "4cdb1f8c-af72-4cc6-b4e2-c870f3c5f2fe"
      },
      "source": [
        "x_train = np.reshape(x_train, (x_train.shape[0], x_train.shape[1], 1))\n",
        "x_train.shape"
      ],
      "execution_count": null,
      "outputs": [
        {
          "output_type": "execute_result",
          "data": {
            "text/plain": [
              "(1440, 60, 1)"
            ]
          },
          "metadata": {
            "tags": []
          },
          "execution_count": 14
        }
      ]
    },
    {
      "cell_type": "code",
      "metadata": {
        "id": "8gNY5HslsXkl"
      },
      "source": [
        "# build LSTM model\n",
        "model = Sequential()\n",
        "model.add(LSTM(50, return_sequences=True, input_shape = (x_train.shape[1],1)))\n",
        "model.add(LSTM(50, return_sequences=False))\n",
        "model.add(Dense(25))\n",
        "model.add(Dense(1))"
      ],
      "execution_count": null,
      "outputs": []
    },
    {
      "cell_type": "code",
      "metadata": {
        "id": "S600D5uIs7kB"
      },
      "source": [
        "# compile model\n",
        "model.compile(optimizer=\"adam\", loss='mean_squared_error')"
      ],
      "execution_count": null,
      "outputs": []
    },
    {
      "cell_type": "code",
      "metadata": {
        "colab": {
          "base_uri": "https://localhost:8080/"
        },
        "id": "w1EHoc3GtHSr",
        "outputId": "a4aa23ba-e9cb-4afd-9336-982fd5412ef9"
      },
      "source": [
        "# train model\n",
        "model.fit(x_train, y_train, batch_size=1, epochs=1)"
      ],
      "execution_count": null,
      "outputs": [
        {
          "output_type": "stream",
          "text": [
            "1440/1440 [==============================] - 49s 22ms/step - loss: 0.0040\n"
          ],
          "name": "stdout"
        },
        {
          "output_type": "execute_result",
          "data": {
            "text/plain": [
              "<keras.callbacks.History at 0x7f3c7defee10>"
            ]
          },
          "metadata": {
            "tags": []
          },
          "execution_count": 18
        }
      ]
    },
    {
      "cell_type": "code",
      "metadata": {
        "id": "ruFX3K1qu06W"
      },
      "source": [
        "# create testing dataset\n",
        "# scaled values from 1440 to 1874\n",
        "test_data = scaled_data[training_data_len - 60: , :]\n",
        "\n",
        "# create data sets x_test and y_test\n",
        "x_test = []\n",
        "y_test = dataset[training_data_len, :]\n",
        "\n",
        "for i in range(60, len(test_data)):\n",
        "  x_test.append(test_data[i-60:i, 0])"
      ],
      "execution_count": null,
      "outputs": []
    },
    {
      "cell_type": "code",
      "metadata": {
        "id": "4RPyIoAYvt5l"
      },
      "source": [
        "# convert the data to np array again!\n",
        "x_test = np.array(x_test)"
      ],
      "execution_count": null,
      "outputs": []
    },
    {
      "cell_type": "code",
      "metadata": {
        "id": "l7CLg-Xrv6Gu"
      },
      "source": [
        "# reshape to 3D data structure\n",
        "x_test = np.reshape(x_test, (x_test.shape[0], x_test.shape[1], 1))"
      ],
      "execution_count": null,
      "outputs": []
    },
    {
      "cell_type": "code",
      "metadata": {
        "id": "9Npsz1zIwVwJ"
      },
      "source": [
        "# get model predicted price values\n",
        "predictions = model.predict(x_test)\n",
        "predictions = scaler.inverse_transform(predictions)"
      ],
      "execution_count": null,
      "outputs": []
    },
    {
      "cell_type": "code",
      "metadata": {
        "colab": {
          "base_uri": "https://localhost:8080/"
        },
        "id": "QyhE-BWXwvwE",
        "outputId": "ba9b6730-d091-494c-ae1c-ebecb61f5f6b"
      },
      "source": [
        "# evaluate model predictions, get rmse\n",
        "rmse = np.sqrt(np.mean(predictions - y_test)**2)\n",
        "rmse"
      ],
      "execution_count": null,
      "outputs": [
        {
          "output_type": "execute_result",
          "data": {
            "text/plain": [
              "13.023250370739616"
            ]
          },
          "metadata": {
            "tags": []
          },
          "execution_count": 23
        }
      ]
    },
    {
      "cell_type": "code",
      "metadata": {
        "colab": {
          "base_uri": "https://localhost:8080/",
          "height": 445
        },
        "id": "qwp489nYxGNk",
        "outputId": "ac92f4b2-c84f-4593-b69a-68feeb159625"
      },
      "source": [
        "# plot\n",
        "train = data[:training_data_len]\n",
        "valid = data[training_data_len:]\n",
        "valid['predictions'] = predictions\n",
        "\n",
        "plt.figure(figsize=(16,8))\n",
        "plt.title('model')\n",
        "plt.xlabel('date', fontsize=18)\n",
        "plt.ylabel('Close price USD', fontsize=18)\n",
        "plt.plot(train['Close'])\n",
        "plt.plot(valid[['Close', 'predictions']])\n",
        "plt.legend(['Train', \"Val\", 'Predictions'], loc='lower right')\n",
        "plt.show()"
      ],
      "execution_count": null,
      "outputs": [
        {
          "output_type": "stream",
          "text": [
            "/usr/local/lib/python3.7/dist-packages/ipykernel_launcher.py:4: SettingWithCopyWarning: \n",
            "A value is trying to be set on a copy of a slice from a DataFrame.\n",
            "Try using .loc[row_indexer,col_indexer] = value instead\n",
            "\n",
            "See the caveats in the documentation: https://pandas.pydata.org/pandas-docs/stable/user_guide/indexing.html#returning-a-view-versus-a-copy\n",
            "  after removing the cwd from sys.path.\n"
          ],
          "name": "stderr"
        },
        {
          "output_type": "display_data",
          "data": {
            "image/png": "[encoded data removed]",
            "text/plain": [
              "<Figure size 1152x576 with 1 Axes>"
            ]
          },
          "metadata": {
            "tags": [],
            "needs_background": "light"
          }
        }
      ]
    },
    {
      "cell_type": "code",
      "metadata": {
        "colab": {
          "base_uri": "https://localhost:8080/",
          "height": 447
        },
        "id": "VbjbdvnhyOZp",
        "outputId": "9aeaa5ae-7253-4cd4-ac85-9a56ac7941ae"
      },
      "source": [
        "# show actual price and predicted price\n",
        "valid"
      ],
      "execution_count": null,
      "outputs": [
        {
          "output_type": "execute_result",
          "data": {
            "text/html": [
              "<div>\n",
              "<style scoped>\n",
              "    .dataframe tbody tr th:only-of-type {\n",
              "        vertical-align: middle;\n",
              "    }\n",
              "\n",
              "    .dataframe tbody tr th {\n",
              "        vertical-align: top;\n",
              "    }\n",
              "\n",
              "    .dataframe thead th {\n",
              "        text-align: right;\n",
              "    }\n",
              "</style>\n",
              "<table border=\"1\" class=\"dataframe\">\n",
              "  <thead>\n",
              "    <tr style=\"text-align: right;\">\n",
              "      <th></th>\n",
              "      <th>Close</th>\n",
              "      <th>predictions</th>\n",
              "    </tr>\n",
              "    <tr>\n",
              "      <th>Date</th>\n",
              "      <th></th>\n",
              "      <th></th>\n",
              "    </tr>\n",
              "  </thead>\n",
              "  <tbody>\n",
              "    <tr>\n",
              "      <th>2019-12-17</th>\n",
              "      <td>30.700001</td>\n",
              "      <td>30.307589</td>\n",
              "    </tr>\n",
              "    <tr>\n",
              "      <th>2019-12-18</th>\n",
              "      <td>31.680000</td>\n",
              "      <td>30.467512</td>\n",
              "    </tr>\n",
              "    <tr>\n",
              "      <th>2019-12-19</th>\n",
              "      <td>32.029999</td>\n",
              "      <td>30.781746</td>\n",
              "    </tr>\n",
              "    <tr>\n",
              "      <th>2019-12-20</th>\n",
              "      <td>32.130001</td>\n",
              "      <td>31.180204</td>\n",
              "    </tr>\n",
              "    <tr>\n",
              "      <th>2019-12-23</th>\n",
              "      <td>32.430000</td>\n",
              "      <td>31.563591</td>\n",
              "    </tr>\n",
              "    <tr>\n",
              "      <th>...</th>\n",
              "      <td>...</td>\n",
              "      <td>...</td>\n",
              "    </tr>\n",
              "    <tr>\n",
              "      <th>2021-06-07</th>\n",
              "      <td>59.630001</td>\n",
              "      <td>57.616737</td>\n",
              "    </tr>\n",
              "    <tr>\n",
              "      <th>2021-06-08</th>\n",
              "      <td>58.810001</td>\n",
              "      <td>58.011364</td>\n",
              "    </tr>\n",
              "    <tr>\n",
              "      <th>2021-06-09</th>\n",
              "      <td>59.709999</td>\n",
              "      <td>58.263435</td>\n",
              "    </tr>\n",
              "    <tr>\n",
              "      <th>2021-06-10</th>\n",
              "      <td>60.299999</td>\n",
              "      <td>58.627014</td>\n",
              "    </tr>\n",
              "    <tr>\n",
              "      <th>2021-06-11</th>\n",
              "      <td>60.500000</td>\n",
              "      <td>59.093739</td>\n",
              "    </tr>\n",
              "  </tbody>\n",
              "</table>\n",
              "<p>374 rows × 2 columns</p>\n",
              "</div>"
            ],
            "text/plain": [
              "                Close  predictions\n",
              "Date                              \n",
              "2019-12-17  30.700001    30.307589\n",
              "2019-12-18  31.680000    30.467512\n",
              "2019-12-19  32.029999    30.781746\n",
              "2019-12-20  32.130001    31.180204\n",
              "2019-12-23  32.430000    31.563591\n",
              "...               ...          ...\n",
              "2021-06-07  59.630001    57.616737\n",
              "2021-06-08  58.810001    58.011364\n",
              "2021-06-09  59.709999    58.263435\n",
              "2021-06-10  60.299999    58.627014\n",
              "2021-06-11  60.500000    59.093739\n",
              "\n",
              "[374 rows x 2 columns]"
            ]
          },
          "metadata": {
            "tags": []
          },
          "execution_count": 25
        }
      ]
    },
    {
      "cell_type": "code",
      "metadata": {
        "colab": {
          "base_uri": "https://localhost:8080/"
        },
        "id": "YNOFrp7aygZ2",
        "outputId": "50997110-bf7a-480c-9a38-bc1d19c04ad6"
      },
      "source": [
        "# predict stock for the next day 2021-6-14\n",
        "quote = web.DataReader('TWTR', data_source='yahoo', start='2014-01-01', end='2021-06-14')\n",
        "new_df = quote.filter(['Close'])\n",
        "\n",
        "# get last 60 day values and convert to np array\n",
        "last_60_days = new_df[-60:].values\n",
        "\n",
        "#scale to 0-1 values\n",
        "last_60_days_scaled = scaler.transform(last_60_days)\n",
        "\n",
        "#create empy list and append\n",
        "X_test = []\n",
        "X_test.append(last_60_days_scaled)\n",
        "X_test = np.array(X_test)\n",
        "\n",
        "# reshape\n",
        "X_test = np.reshape(X_test, (X_test.shape[0], X_test.shape[1], 1))\n",
        "\n",
        "# get predicted scale price\n",
        "pred_price = model.predict(X_test)\n",
        "# undo scaling\n",
        "pred_price = scaler.inverse_transform(pred_price)\n",
        "print(pred_price)\n"
      ],
      "execution_count": null,
      "outputs": [
        {
          "output_type": "stream",
          "text": [
            "[[59.974068]]\n"
          ],
          "name": "stdout"
        }
      ]
    },
    {
      "cell_type": "code",
      "metadata": {
        "colab": {
          "base_uri": "https://localhost:8080/"
        },
        "id": "t8OuVggL0lIw",
        "outputId": "39321760-1498-42e3-b379-cf1fd51c9ce6"
      },
      "source": [
        "quote2 = web.DataReader('TWTR', data_source='yahoo', start='2021-06-15', end='2021-06-15')\n",
        "print(quote2['Close'])\n"
      ],
      "execution_count": null,
      "outputs": [
        {
          "output_type": "stream",
          "text": [
            "Date\n",
            "2021-06-15    60.23\n",
            "Name: Close, dtype: float64\n"
          ],
          "name": "stdout"
        }
      ]
    },
    {
      "cell_type": "code",
      "metadata": {
        "id": "Xnmfde1I06Lv"
      },
      "source": [
        "# NOT BAD :D"
      ],
      "execution_count": null,
      "outputs": []
    },
    {
      "cell_type": "code",
      "metadata": {
        "id": "CdkiFEh31FO5"
      },
      "source": [
        ""
      ],
      "execution_count": null,
      "outputs": []
    }
  ]
}